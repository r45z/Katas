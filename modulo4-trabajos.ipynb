{
 "cells": [
  {
   "cell_type": "code",
   "execution_count": 1,
   "metadata": {},
   "outputs": [
    {
     "name": "stdout",
     "output_type": "stream",
     "text": [
      "['Interesting facts about the Moon', \" The Moon is Earth's only satellite\", ' There are several interesting facts about the Moon and how it affects life here on Earth', ' \\nOn average, the Moon moves 4cm away from the Earth every year', ' This yearly drift is not significant enough to cause immediate effects on Earth', ' The hig']\n"
     ]
    }
   ],
   "source": [
    "text = \"\"\"Interesting facts about the Moon. The Moon is Earths only satellite. There are several interesting facts about the Moon and how it affects life here on Earth.,\n",
    "On average, the Moon moves 4cm away from the Earth every year. This yearly drift is not significant enough to cause immediate effects on Earth. The highest daylight temperature of the Moon is 127 C.\"\"\"\n",
    "#separar cadenas\n",
    "print(text.split(\".\"))\n",
    "\n"
   ]
  },
  {
   "cell_type": "code",
   "execution_count": 27,
   "metadata": {},
   "outputs": [
    {
     "name": "stdout",
     "output_type": "stream",
     "text": [
      "<class 'str'>\n",
      "<class 'list'>\n",
      "Interesting facts about the Moon **** Interesting\n",
      ",\n",
      "On average, the Moon moves 4cm away from the Earth every year **** average\n",
      " The highest daylight temperature of the Moon is 127 C **** temperature\n"
     ]
    }
   ],
   "source": [
    "text = \"\"\"Interesting facts about the Moon. The Moon is Earths only satellite. There are several interesting facts about the Moon and how it affects life here on Earth.,\n",
    "On average, the Moon moves 4cm away from the Earth every year. This yearly drift is not significant enough to cause immediate effects on Earth. The highest daylight temperature of the Moon is 127 C.\"\"\"\n",
    "\n",
    "palabras = [\"average\", \"temperature\", \"distance\", \"Interesting\"]\n",
    "\n",
    "print(type(text))\n",
    "print(type(text.split(\".\")))\n",
    "\n",
    "\n",
    "for oracion in text.split(\".\"): #There are several interesting facts about the Moon and how it affects life here on Earth\n",
    "\n",
    "    for palabra in palabras: \n",
    "        if palabra in oracion:\n",
    "            print(oracion, \"****\", palabra)\n",
    "\n",
    "\n"
   ]
  },
  {
   "cell_type": "code",
   "execution_count": 33,
   "metadata": {},
   "outputs": [
    {
     "name": "stdout",
     "output_type": "stream",
     "text": [
      "InterestXng facts about the Moon. The Moon Xs Earths only satellXte. There are several XnterestXng facts about the Moon and how Xt affects lXfe here on Earth.,\n",
      "On average, the Moon moves 4cm away from the Earth every year. ThXs yearly drXft Xs not sXgnXfXcant enough to cause XmmedXate effects on Earth. The hXghest daylXght temperature of the Moon Xs 127 C.\n",
      "InterestXng facts about the Moon. The Moon Xs Earths only satellXte. There are several XnterestXng facts about the Moon and how Xt affects lXfe here on Earth.,\n",
      "On average, the Moon moves 4cm away from the Earth every year. ThXs yearly drXft Xs not sXgnXfXcant enough to cause XmmedXate effects on Earth. The hXghest daylXght temperature of the Moon Xs 127 C.\n",
      "InterestXng facts about the Moon. The Moon Xs Earths only satellXte. There are several XnterestXng facts about the Moon and how Xt affects lXfe here on Earth.,\n",
      "On average, the Moon moves 4cm away from the Earth every year. ThXs yearly drXft Xs not sXgnXfXcant enough to cause XmmedXate effects on Earth. The hXghest daylXght temperature of the Moon Xs 127 C.\n"
     ]
    }
   ],
   "source": [
    "text = \"\"\"Interesting facts about the Moon. The Moon is Earths only satellite. There are several interesting facts about the Moon and how it affects life here on Earth.,\n",
    "On average, the Moon moves 4cm away from the Earth every year. This yearly drift is not significant enough to cause immediate effects on Earth. The highest daylight temperature of the Moon is 127 C.\"\"\"\n",
    "\n",
    "palabras = [\"average\", \"temperature\", \"distance\", \"Interesting\"]\n",
    "\n",
    "for oracion in text.split(\".\"): #There are several interesting facts about the Moon and how it affects life here on Earth\n",
    "\n",
    "    for palabra in palabras: \n",
    "        if palabra in oracion:\n",
    "            print(text.replace(\"C\", \"Celsius\"))\n"
   ]
  },
  {
   "cell_type": "code",
   "execution_count": 57,
   "metadata": {},
   "outputs": [
    {
     "name": "stdout",
     "output_type": "stream",
     "text": [
      "Me Gustan Las Galleta\n",
      "\n",
      "Datos de Gravedad sobre: Moon\n",
      "-------------------------------------------------------------------------------\n",
      "Nombre del planeta: Earth\n",
      "Gravedad en Moon: 1.6199999999999999 m/s2\n",
      "\n",
      "\n",
      "Datos de Gravedad sobre: Ganímedes\n",
      "-------------------------------------------------------------------------------\n",
      "Nombre del planeta: Marte \n",
      "Gravedad en Ganímedes: 1.4300000000000002 m/s2\n",
      "\n"
     ]
    }
   ],
   "source": [
    "\n",
    "nombre = \"Moon\"\n",
    "gravedad = 0.00162\n",
    "planeta = \"Earth\"\n",
    "\n",
    "title = f'me gustan las galleta'.title()\n",
    "\n",
    "print(title)\n",
    "\n",
    "template = \"\"\"\n",
    "Datos de Gravedad sobre: {}\n",
    "-------------------------------------------------------------------------------\n",
    "Nombre del planeta: {}\n",
    "Gravedad en {}: {} m/s2\n",
    "\"\"\"\n",
    "\n",
    "print(template.format(nombre, planeta, nombre, gravedad*1000))\n",
    "\n",
    "\n",
    "planeta = 'Marte '\n",
    "gravedad  = 0.00143\n",
    "nombre = 'Ganímedes'\n",
    "\n",
    "print(template.format(nombre, planeta, nombre, gravedad*1000))\n",
    "\n",
    "\n",
    "\n",
    "\n",
    "\n",
    "\n",
    "\n"
   ]
  }
 ],
 "metadata": {
  "interpreter": {
   "hash": "916dbcbb3f70747c44a77c7bcd40155683ae19c65e1c03b4aa3499c5328201f1"
  },
  "kernelspec": {
   "display_name": "Python 3.9.2 64-bit",
   "language": "python",
   "name": "python3"
  },
  "language_info": {
   "codemirror_mode": {
    "name": "ipython",
    "version": 3
   },
   "file_extension": ".py",
   "mimetype": "text/x-python",
   "name": "python",
   "nbconvert_exporter": "python",
   "pygments_lexer": "ipython3",
   "version": "3.9.2"
  },
  "orig_nbformat": 4
 },
 "nbformat": 4,
 "nbformat_minor": 2
}
