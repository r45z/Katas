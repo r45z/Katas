{
 "cells": [
  {
   "cell_type": "code",
   "execution_count": 21,
   "metadata": {},
   "outputs": [
    {
     "name": "stdout",
     "output_type": "stream",
     "text": [
      "REPORTE GASOLINA:\n",
      "\tTANQUE 1: 11$\n",
      "\tTANQUE 2: 421$\n",
      "\tTANQUE 3: 1141$\n",
      "\tTANQUE 4: 141$\n",
      "\tTANQUE 5: 111$\n",
      "\tTOTAL: 1825$\n",
      "\tMEDIA: 365.0$\n",
      "\n"
     ]
    }
   ],
   "source": [
    "def generar_reporte(tanques):\n",
    "    \n",
    "    reporte_inicio = \"REPORTE GASOLINA:\\n\"\n",
    "    total = 0\n",
    "\n",
    "    for tanque in tanques:\n",
    "        precio = tanques[tanque]\n",
    "        total += precio\n",
    "        reporte_inicio += \"\\tTANQUE {}: {}$\\n\".format(list(tanques.keys()).index(tanque) + 1, precio)\n",
    "\n",
    "    reporte_inicio += \"\\tTOTAL: {}$\\n\".format(total)\n",
    "    reporte_inicio += \"\\tMEDIA: {}$\\n\".format(total / len(tanques))\n",
    "\n",
    "    return reporte_inicio\n",
    "\n",
    "\n",
    "print(generar_reporte({\"Tanque1\":11, \"Tanque2\":421, \"Tanque3\":1141, \"Tanque4\":141, \"Tanque5\":111}))\n"
   ]
  },
  {
   "cell_type": "code",
   "execution_count": 11,
   "metadata": {},
   "outputs": [
    {
     "name": "stdout",
     "output_type": "stream",
     "text": [
      "dict_items([('main', 20000), ('external', 2000)]) <class 'dict'>\n",
      "\n",
      "    Mision a LUna\n",
      "    Tiempo de viaje: 679 \n",
      "    Combustible restante: 22000main tanque --> 20000 galones restantes\n",
      "external tanque --> 2000 galones restantes\n",
      "\n"
     ]
    }
   ],
   "source": [
    "def mission_report(destination, *minutes, **fuel_reservoirs):\n",
    "\n",
    "    print(fuel_reservoirs.items(), type(fuel_reservoirs))\n",
    "\n",
    "    reporte = \"\"\"\n",
    "    Mision a {}\n",
    "    Tiempo de viaje: {} \n",
    "    Combustible restante: {}\"\"\".format(destination, sum(minutes), sum(fuel_reservoirs.values()))\n",
    "\n",
    "\n",
    "    for tanque, galones in fuel_reservoirs.items():\n",
    "        reporte += f\"{tanque} tanque --> {galones} galones restantes\\n\"\n",
    "        \n",
    "    return reporte\n",
    "\n",
    "print(mission_report(\"LUna\", 6, 18, 655, main=20000, external=2000))"
   ]
  }
 ],
 "metadata": {
  "interpreter": {
   "hash": "916dbcbb3f70747c44a77c7bcd40155683ae19c65e1c03b4aa3499c5328201f1"
  },
  "kernelspec": {
   "display_name": "Python 3.9.2 64-bit",
   "language": "python",
   "name": "python3"
  },
  "language_info": {
   "codemirror_mode": {
    "name": "ipython",
    "version": 3
   },
   "file_extension": ".py",
   "mimetype": "text/x-python",
   "name": "python",
   "nbconvert_exporter": "python",
   "pygments_lexer": "ipython3",
   "version": "3.9.2"
  },
  "orig_nbformat": 4
 },
 "nbformat": 4,
 "nbformat_minor": 2
}
