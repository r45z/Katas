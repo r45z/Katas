{
 "cells": [
  {
   "cell_type": "code",
   "execution_count": 1,
   "metadata": {},
   "outputs": [
    {
     "ename": "FileNotFoundError",
     "evalue": "[Errno 2] No such file or directory: 'a.jpg'",
     "output_type": "error",
     "traceback": [
      "\u001b[0;31m---------------------------------------------------------------------------\u001b[0m",
      "\u001b[0;31mFileNotFoundError\u001b[0m                         Traceback (most recent call last)",
      "\u001b[1;32m/home/razz/Documents/Primera semana python/modulo10-trabajos.ipynb Cell 1'\u001b[0m in \u001b[0;36m<module>\u001b[0;34m\u001b[0m\n\u001b[1;32m      <a href='vscode-notebook-cell:/home/razz/Documents/Primera%20semana%20python/modulo10-trabajos.ipynb#ch0000000?line=0'>1</a>\u001b[0m \u001b[39m#Tracebacks\u001b[39;00m\n\u001b[0;32m----> <a href='vscode-notebook-cell:/home/razz/Documents/Primera%20semana%20python/modulo10-trabajos.ipynb#ch0000000?line=2'>3</a>\u001b[0m \u001b[39mopen\u001b[39;49m(\u001b[39m\"\u001b[39;49m\u001b[39ma.jpg\u001b[39;49m\u001b[39m\"\u001b[39;49m)\n",
      "\u001b[0;31mFileNotFoundError\u001b[0m: [Errno 2] No such file or directory: 'a.jpg'"
     ]
    }
   ],
   "source": [
    "#Tracebacks\n",
    "#Aprendi algunos trucos utiles de ti, muchas gracias!\n",
    "\n",
    "open(\"a.jpg\")\n",
    "\n",
    "\n",
    "\n",
    "\n"
   ]
  },
  {
   "cell_type": "code",
   "execution_count": 29,
   "metadata": {},
   "outputs": [
    {
     "ename": "RuntimeError",
     "evalue": "Todos los argumentos deben ser de tipo entero",
     "output_type": "error",
     "traceback": [
      "\u001b[0;31m---------------------------------------------------------------------------\u001b[0m",
      "\u001b[0;31mRuntimeError\u001b[0m                              Traceback (most recent call last)",
      "\u001b[1;32m/home/razz/Documents/Primera semana python/modulo10-trabajos.ipynb Cell 2'\u001b[0m in \u001b[0;36m<module>\u001b[0;34m\u001b[0m\n\u001b[1;32m     <a href='vscode-notebook-cell:/home/razz/Documents/Primera%20semana%20python/modulo10-trabajos.ipynb#ch0000001?line=11'>12</a>\u001b[0m         \u001b[39mraise\u001b[39;00m \u001b[39mRuntimeError\u001b[39;00m(\u001b[39m\"\u001b[39m\u001b[39mNo hay agua suficiente, para los dias restantes, hacen falta \u001b[39m\u001b[39m{}\u001b[39;00m\u001b[39m litros\u001b[39m\u001b[39m\"\u001b[39m\u001b[39m.\u001b[39mformat(consumo_total))\n\u001b[1;32m     <a href='vscode-notebook-cell:/home/razz/Documents/Primera%20semana%20python/modulo10-trabajos.ipynb#ch0000001?line=13'>14</a>\u001b[0m     \u001b[39mreturn\u001b[39;00m \u001b[39m\"\u001b[39m\u001b[39mEl agua restante despues de \u001b[39m\u001b[39m{}\u001b[39;00m\u001b[39m dias es: \u001b[39m\u001b[39m{}\u001b[39;00m\u001b[39m litros\u001b[39m\u001b[39m\"\u001b[39m\u001b[39m.\u001b[39mformat(dias_restantes, \u001b[39mabs\u001b[39m(consumo_total))\n\u001b[0;32m---> <a href='vscode-notebook-cell:/home/razz/Documents/Primera%20semana%20python/modulo10-trabajos.ipynb#ch0000001?line=16'>17</a>\u001b[0m agua_disponible(\u001b[39m\"\u001b[39;49m\u001b[39m2\u001b[39;49m\u001b[39m\"\u001b[39;49m, \u001b[39m100\u001b[39;49m, \u001b[39m2\u001b[39;49m)\n",
      "\u001b[1;32m/home/razz/Documents/Primera semana python/modulo10-trabajos.ipynb Cell 2'\u001b[0m in \u001b[0;36magua_disponible\u001b[0;34m(astronautas, agua_restante, dias_restantes)\u001b[0m\n\u001b[1;32m      <a href='vscode-notebook-cell:/home/razz/Documents/Primera%20semana%20python/modulo10-trabajos.ipynb#ch0000001?line=2'>3</a>\u001b[0m \u001b[39mfor\u001b[39;00m argumentos \u001b[39min\u001b[39;00m [astronautas, agua_restante, dias_restantes]:\n\u001b[1;32m      <a href='vscode-notebook-cell:/home/razz/Documents/Primera%20semana%20python/modulo10-trabajos.ipynb#ch0000001?line=3'>4</a>\u001b[0m     \u001b[39mif\u001b[39;00m \u001b[39mtype\u001b[39m(argumentos) \u001b[39m!=\u001b[39m \u001b[39mtype\u001b[39m(\u001b[39m1\u001b[39m):\n\u001b[0;32m----> <a href='vscode-notebook-cell:/home/razz/Documents/Primera%20semana%20python/modulo10-trabajos.ipynb#ch0000001?line=4'>5</a>\u001b[0m         \u001b[39mraise\u001b[39;00m \u001b[39mRuntimeError\u001b[39;00m(\u001b[39m\"\u001b[39m\u001b[39mTodos los argumentos deben ser de tipo entero\u001b[39m\u001b[39m\"\u001b[39m)\n\u001b[1;32m      <a href='vscode-notebook-cell:/home/razz/Documents/Primera%20semana%20python/modulo10-trabajos.ipynb#ch0000001?line=6'>7</a>\u001b[0m consumo_diario  \u001b[39m=\u001b[39m \u001b[39m11\u001b[39m \u001b[39m*\u001b[39m astronautas\n\u001b[1;32m      <a href='vscode-notebook-cell:/home/razz/Documents/Primera%20semana%20python/modulo10-trabajos.ipynb#ch0000001?line=8'>9</a>\u001b[0m consumo_total \u001b[39m=\u001b[39m (consumo_diario \u001b[39m*\u001b[39m dias_restantes) \u001b[39m-\u001b[39m agua_restante \n",
      "\u001b[0;31mRuntimeError\u001b[0m: Todos los argumentos deben ser de tipo entero"
     ]
    }
   ],
   "source": [
    "def agua_disponible(astronautas, agua_restante, dias_restantes):\n",
    "\n",
    "    for argumentos in [astronautas, agua_restante, dias_restantes]:\n",
    "        \n",
    "        if type(argumentos) != type(1):\n",
    "            raise RuntimeError(\"Todos los argumentos deben ser de tipo entero\")\n",
    "\n",
    "    consumo_diario  = 11 * astronautas\n",
    "\n",
    "    consumo_total = (consumo_diario * dias_restantes) - agua_restante \n",
    "\n",
    "    if consumo_total > 0:\n",
    "        raise RuntimeError(\"No hay agua suficiente, para los dias restantes, hacen falta {} litros\".format(consumo_total))\n",
    "    \n",
    "    return \"El agua restante despues de {} dias es: {} litros\".format(dias_restantes, abs(consumo_total))\n",
    "\n",
    "\n",
    "agua_disponible(5, 100, 2)\n",
    "\n"
   ]
  },
  {
   "cell_type": "code",
   "execution_count": 27,
   "metadata": {},
   "outputs": [
    {
     "data": {
      "text/plain": [
       "'Total water left after 2 days is: -10 liters'"
      ]
     },
     "execution_count": 27,
     "metadata": {},
     "output_type": "execute_result"
    }
   ],
   "source": [
    "def water_left(astronauts, water_left, days_left):\n",
    "    daily_usage = astronauts * 11\n",
    "    total_usage = daily_usage * days_left\n",
    "    total_water_left = water_left - total_usage\n",
    "    return f\"Total water left after {days_left} days is: {total_water_left} liters\"\n",
    "\n",
    "water_left(5, 100, 2)"
   ]
  }
 ],
 "metadata": {
  "interpreter": {
   "hash": "916dbcbb3f70747c44a77c7bcd40155683ae19c65e1c03b4aa3499c5328201f1"
  },
  "kernelspec": {
   "display_name": "Python 3.9.2 64-bit",
   "language": "python",
   "name": "python3"
  },
  "language_info": {
   "codemirror_mode": {
    "name": "ipython",
    "version": 3
   },
   "file_extension": ".py",
   "mimetype": "text/x-python",
   "name": "python",
   "nbconvert_exporter": "python",
   "pygments_lexer": "ipython3",
   "version": "3.9.2"
  },
  "orig_nbformat": 4
 },
 "nbformat": 4,
 "nbformat_minor": 2
}
