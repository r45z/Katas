{
 "cells": [
  {
   "cell_type": "code",
   "execution_count": 3,
   "metadata": {},
   "outputs": [
    {
     "name": "stdout",
     "output_type": "stream",
     "text": [
      "Mars has 2 moons \n",
      "{'name': 'Mars', 'moons': 2, 'circumference (km)': {'polar': 6752, 'equatorial': 6792}}\n",
      "Mars has a polar circumference of 6752\n"
     ]
    }
   ],
   "source": [
    "planet = {\n",
    "    'name': 'Mars',\n",
    "    'moons': 2\n",
    "}\n",
    "\n",
    "\n",
    "print('{} has {} moons '.format(planet[\"name\"], planet[\"moons\"]))\n",
    "\n",
    "\n",
    "planet['circumference (km)'] = {'polar': 6752, 'equatorial': 6792}\n",
    "\n",
    "#print(planet)\n",
    "\n",
    "print('{} has a polar circumference of {}'.format(planet[\"name\"], planet[\"circumference (km)\"][\"polar\"] ))\n",
    "\n"
   ]
  },
  {
   "cell_type": "code",
   "execution_count": 6,
   "metadata": {},
   "outputs": [
    {
     "name": "stdout",
     "output_type": "stream",
     "text": [
      "3.3333333333333335\n"
     ]
    }
   ],
   "source": [
    "\n",
    "planet_moons = {\"Jupiter\": 5, \"Marte\": 4, \"Tierra\":1}\n",
    "\n",
    "moons = planet_moons.values()\n",
    "\n",
    "planets = len(moons)\n",
    "\n",
    "\n",
    "total= 0\n",
    "for moon in moons:\n",
    "    total = total + moon\n",
    "\n",
    "average = total / planets\n",
    "\n",
    "print(average)\n",
    "\n"
   ]
  }
 ],
 "metadata": {
  "interpreter": {
   "hash": "916dbcbb3f70747c44a77c7bcd40155683ae19c65e1c03b4aa3499c5328201f1"
  },
  "kernelspec": {
   "display_name": "Python 3.9.2 64-bit",
   "language": "python",
   "name": "python3"
  },
  "language_info": {
   "codemirror_mode": {
    "name": "ipython",
    "version": 3
   },
   "file_extension": ".py",
   "mimetype": "text/x-python",
   "name": "python",
   "nbconvert_exporter": "python",
   "pygments_lexer": "ipython3",
   "version": "3.9.2"
  },
  "orig_nbformat": 4
 },
 "nbformat": 4,
 "nbformat_minor": 2
}
