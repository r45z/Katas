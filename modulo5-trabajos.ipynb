{
 "cells": [
  {
   "cell_type": "code",
   "execution_count": 5,
   "metadata": {},
   "outputs": [
    {
     "name": "stdout",
     "output_type": "stream",
     "text": [
      "628949330 390577533.93\n"
     ]
    }
   ],
   "source": [
    "#km\n",
    "pos_uno = 149597870 \n",
    "pos_dos = 778547200\n",
    "\n",
    "distancia_km = abs(pos_uno - pos_dos)\n",
    "distancia_millas = distancia_km * 0.621\n",
    "\n",
    "print(distancia_km, distancia_millas)"
   ]
  },
  {
   "cell_type": "code",
   "execution_count": 6,
   "metadata": {},
   "outputs": [
    {
     "name": "stdout",
     "output_type": "stream",
     "text": [
      "Distancia en km:5\n",
      " Distancia en millas:3.105\n"
     ]
    }
   ],
   "source": [
    "pos_uno = int(input(\"Posicion planeta 1 (KM): \"))\n",
    "pos_dos = int(input(\"Posicion planeta 2 (KM): \"))\n",
    "\n",
    "distancia = abs(pos_uno - pos_dos)\n",
    "\n",
    "print(\"Distancia en km:{}\\nDistancia en millas:{}\".format(distancia, distancia*0.621))"
   ]
  }
 ],
 "metadata": {
  "interpreter": {
   "hash": "916dbcbb3f70747c44a77c7bcd40155683ae19c65e1c03b4aa3499c5328201f1"
  },
  "kernelspec": {
   "display_name": "Python 3.9.2 64-bit",
   "language": "python",
   "name": "python3"
  },
  "language_info": {
   "codemirror_mode": {
    "name": "ipython",
    "version": 3
   },
   "file_extension": ".py",
   "mimetype": "text/x-python",
   "name": "python",
   "nbconvert_exporter": "python",
   "pygments_lexer": "ipython3",
   "version": "3.9.2"
  },
  "orig_nbformat": 4
 },
 "nbformat": 4,
 "nbformat_minor": 2
}
